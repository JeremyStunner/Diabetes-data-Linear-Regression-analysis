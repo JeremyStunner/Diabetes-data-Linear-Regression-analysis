{
 "cells": [
  {
   "cell_type": "code",
   "execution_count": 2,
   "id": "903879bc",
   "metadata": {},
   "outputs": [],
   "source": [
    "import pandas as pd\n",
    "import numpy as np\n",
    "import matplotlib.pyplot as plt\n",
    "import seaborn as sns\n",
    "\n",
    "from sklearn.preprocessing import MinMaxScaler\n",
    "from sklearn.model_selection import train_test_split\n",
    "from sklearn.linear_model import LinearRegression\n",
    "from sklearn.metrics import r2_score\n",
    "from sklearn.metrics import mean_squared_error"
   ]
  },
  {
   "cell_type": "code",
   "execution_count": 3,
   "id": "38d30726",
   "metadata": {},
   "outputs": [],
   "source": [
    "diabetes = pd.read_csv('train.csv')"
   ]
  },
  {
   "cell_type": "code",
   "execution_count": 4,
   "id": "2f23e54b",
   "metadata": {},
   "outputs": [
    {
     "data": {
      "text/html": [
       "<div>\n",
       "<style scoped>\n",
       "    .dataframe tbody tr th:only-of-type {\n",
       "        vertical-align: middle;\n",
       "    }\n",
       "\n",
       "    .dataframe tbody tr th {\n",
       "        vertical-align: top;\n",
       "    }\n",
       "\n",
       "    .dataframe thead th {\n",
       "        text-align: right;\n",
       "    }\n",
       "</style>\n",
       "<table border=\"1\" class=\"dataframe\">\n",
       "  <thead>\n",
       "    <tr style=\"text-align: right;\">\n",
       "      <th></th>\n",
       "      <th># age</th>\n",
       "      <th>sex</th>\n",
       "      <th>bmi</th>\n",
       "      <th>bp</th>\n",
       "      <th>s1</th>\n",
       "      <th>s2</th>\n",
       "      <th>s3</th>\n",
       "      <th>s4</th>\n",
       "      <th>s5</th>\n",
       "      <th>s6</th>\n",
       "      <th>Y</th>\n",
       "    </tr>\n",
       "  </thead>\n",
       "  <tbody>\n",
       "    <tr>\n",
       "      <th>0</th>\n",
       "      <td>-0.049105</td>\n",
       "      <td>-0.044642</td>\n",
       "      <td>0.160855</td>\n",
       "      <td>-0.046985</td>\n",
       "      <td>-0.029088</td>\n",
       "      <td>-0.019790</td>\n",
       "      <td>-0.047082</td>\n",
       "      <td>0.034309</td>\n",
       "      <td>0.028017</td>\n",
       "      <td>0.011349</td>\n",
       "      <td>346.0</td>\n",
       "    </tr>\n",
       "    <tr>\n",
       "      <th>1</th>\n",
       "      <td>-0.070900</td>\n",
       "      <td>0.050680</td>\n",
       "      <td>-0.089197</td>\n",
       "      <td>-0.074528</td>\n",
       "      <td>-0.042848</td>\n",
       "      <td>-0.025739</td>\n",
       "      <td>-0.032356</td>\n",
       "      <td>-0.002592</td>\n",
       "      <td>-0.012908</td>\n",
       "      <td>-0.054925</td>\n",
       "      <td>104.0</td>\n",
       "    </tr>\n",
       "    <tr>\n",
       "      <th>2</th>\n",
       "      <td>0.001751</td>\n",
       "      <td>-0.044642</td>\n",
       "      <td>-0.070875</td>\n",
       "      <td>-0.022885</td>\n",
       "      <td>-0.001569</td>\n",
       "      <td>-0.001001</td>\n",
       "      <td>0.026550</td>\n",
       "      <td>-0.039493</td>\n",
       "      <td>-0.022512</td>\n",
       "      <td>0.007207</td>\n",
       "      <td>49.0</td>\n",
       "    </tr>\n",
       "    <tr>\n",
       "      <th>3</th>\n",
       "      <td>0.048974</td>\n",
       "      <td>0.050680</td>\n",
       "      <td>0.081097</td>\n",
       "      <td>0.021872</td>\n",
       "      <td>0.043837</td>\n",
       "      <td>0.064134</td>\n",
       "      <td>-0.054446</td>\n",
       "      <td>0.071210</td>\n",
       "      <td>0.032433</td>\n",
       "      <td>0.048628</td>\n",
       "      <td>180.0</td>\n",
       "    </tr>\n",
       "    <tr>\n",
       "      <th>4</th>\n",
       "      <td>0.041708</td>\n",
       "      <td>0.050680</td>\n",
       "      <td>0.061696</td>\n",
       "      <td>-0.040099</td>\n",
       "      <td>-0.013953</td>\n",
       "      <td>0.006202</td>\n",
       "      <td>-0.028674</td>\n",
       "      <td>-0.002592</td>\n",
       "      <td>-0.014956</td>\n",
       "      <td>0.011349</td>\n",
       "      <td>110.0</td>\n",
       "    </tr>\n",
       "    <tr>\n",
       "      <th>...</th>\n",
       "      <td>...</td>\n",
       "      <td>...</td>\n",
       "      <td>...</td>\n",
       "      <td>...</td>\n",
       "      <td>...</td>\n",
       "      <td>...</td>\n",
       "      <td>...</td>\n",
       "      <td>...</td>\n",
       "      <td>...</td>\n",
       "      <td>...</td>\n",
       "      <td>...</td>\n",
       "    </tr>\n",
       "    <tr>\n",
       "      <th>326</th>\n",
       "      <td>0.012648</td>\n",
       "      <td>-0.044642</td>\n",
       "      <td>-0.020218</td>\n",
       "      <td>-0.015999</td>\n",
       "      <td>0.012191</td>\n",
       "      <td>0.021233</td>\n",
       "      <td>-0.076536</td>\n",
       "      <td>0.108111</td>\n",
       "      <td>0.059881</td>\n",
       "      <td>-0.021788</td>\n",
       "      <td>233.0</td>\n",
       "    </tr>\n",
       "    <tr>\n",
       "      <th>327</th>\n",
       "      <td>0.019913</td>\n",
       "      <td>-0.044642</td>\n",
       "      <td>-0.057941</td>\n",
       "      <td>-0.057314</td>\n",
       "      <td>-0.001569</td>\n",
       "      <td>-0.012587</td>\n",
       "      <td>0.074412</td>\n",
       "      <td>-0.039493</td>\n",
       "      <td>-0.061177</td>\n",
       "      <td>-0.075636</td>\n",
       "      <td>63.0</td>\n",
       "    </tr>\n",
       "    <tr>\n",
       "      <th>328</th>\n",
       "      <td>0.023546</td>\n",
       "      <td>-0.044642</td>\n",
       "      <td>0.070319</td>\n",
       "      <td>0.025315</td>\n",
       "      <td>-0.034592</td>\n",
       "      <td>-0.014466</td>\n",
       "      <td>-0.032356</td>\n",
       "      <td>-0.002592</td>\n",
       "      <td>-0.019197</td>\n",
       "      <td>-0.009362</td>\n",
       "      <td>288.0</td>\n",
       "    </tr>\n",
       "    <tr>\n",
       "      <th>329</th>\n",
       "      <td>0.016281</td>\n",
       "      <td>0.050680</td>\n",
       "      <td>0.072474</td>\n",
       "      <td>0.076958</td>\n",
       "      <td>-0.008449</td>\n",
       "      <td>0.005575</td>\n",
       "      <td>-0.006584</td>\n",
       "      <td>-0.002592</td>\n",
       "      <td>-0.023645</td>\n",
       "      <td>0.061054</td>\n",
       "      <td>131.0</td>\n",
       "    </tr>\n",
       "    <tr>\n",
       "      <th>330</th>\n",
       "      <td>-0.009147</td>\n",
       "      <td>0.050680</td>\n",
       "      <td>-0.030996</td>\n",
       "      <td>-0.026328</td>\n",
       "      <td>-0.011201</td>\n",
       "      <td>-0.001001</td>\n",
       "      <td>-0.021311</td>\n",
       "      <td>-0.002592</td>\n",
       "      <td>0.006209</td>\n",
       "      <td>0.027917</td>\n",
       "      <td>42.0</td>\n",
       "    </tr>\n",
       "  </tbody>\n",
       "</table>\n",
       "<p>331 rows × 11 columns</p>\n",
       "</div>"
      ],
      "text/plain": [
       "        # age       sex       bmi        bp        s1        s2        s3  \\\n",
       "0   -0.049105 -0.044642  0.160855 -0.046985 -0.029088 -0.019790 -0.047082   \n",
       "1   -0.070900  0.050680 -0.089197 -0.074528 -0.042848 -0.025739 -0.032356   \n",
       "2    0.001751 -0.044642 -0.070875 -0.022885 -0.001569 -0.001001  0.026550   \n",
       "3    0.048974  0.050680  0.081097  0.021872  0.043837  0.064134 -0.054446   \n",
       "4    0.041708  0.050680  0.061696 -0.040099 -0.013953  0.006202 -0.028674   \n",
       "..        ...       ...       ...       ...       ...       ...       ...   \n",
       "326  0.012648 -0.044642 -0.020218 -0.015999  0.012191  0.021233 -0.076536   \n",
       "327  0.019913 -0.044642 -0.057941 -0.057314 -0.001569 -0.012587  0.074412   \n",
       "328  0.023546 -0.044642  0.070319  0.025315 -0.034592 -0.014466 -0.032356   \n",
       "329  0.016281  0.050680  0.072474  0.076958 -0.008449  0.005575 -0.006584   \n",
       "330 -0.009147  0.050680 -0.030996 -0.026328 -0.011201 -0.001001 -0.021311   \n",
       "\n",
       "           s4        s5        s6      Y  \n",
       "0    0.034309  0.028017  0.011349  346.0  \n",
       "1   -0.002592 -0.012908 -0.054925  104.0  \n",
       "2   -0.039493 -0.022512  0.007207   49.0  \n",
       "3    0.071210  0.032433  0.048628  180.0  \n",
       "4   -0.002592 -0.014956  0.011349  110.0  \n",
       "..        ...       ...       ...    ...  \n",
       "326  0.108111  0.059881 -0.021788  233.0  \n",
       "327 -0.039493 -0.061177 -0.075636   63.0  \n",
       "328 -0.002592 -0.019197 -0.009362  288.0  \n",
       "329 -0.002592 -0.023645  0.061054  131.0  \n",
       "330 -0.002592  0.006209  0.027917   42.0  \n",
       "\n",
       "[331 rows x 11 columns]"
      ]
     },
     "execution_count": 4,
     "metadata": {},
     "output_type": "execute_result"
    }
   ],
   "source": [
    "diabetes"
   ]
  },
  {
   "cell_type": "code",
   "execution_count": 196,
   "id": "e9492d2b",
   "metadata": {},
   "outputs": [
    {
     "data": {
      "text/plain": [
       "(331, 11)"
      ]
     },
     "execution_count": 196,
     "metadata": {},
     "output_type": "execute_result"
    }
   ],
   "source": [
    "diabetes.shape"
   ]
  },
  {
   "cell_type": "code",
   "execution_count": 21,
   "id": "5024390b",
   "metadata": {},
   "outputs": [
    {
     "data": {
      "text/plain": [
       "<bound method NDFrame._add_numeric_operations.<locals>.max of 0      346.0\n",
       "1      104.0\n",
       "2       49.0\n",
       "3      180.0\n",
       "4      110.0\n",
       "       ...  \n",
       "326    233.0\n",
       "327     63.0\n",
       "328    288.0\n",
       "329    131.0\n",
       "330     42.0\n",
       "Name: Y, Length: 331, dtype: float64>"
      ]
     },
     "execution_count": 21,
     "metadata": {},
     "output_type": "execute_result"
    }
   ],
   "source": [
    "diabetes['Y'].max"
   ]
  },
  {
   "cell_type": "code",
   "execution_count": 5,
   "id": "0a148b43",
   "metadata": {},
   "outputs": [],
   "source": [
    "dependent_variable = 'Y'"
   ]
  },
  {
   "cell_type": "code",
   "execution_count": 6,
   "id": "e295728e",
   "metadata": {},
   "outputs": [],
   "source": [
    "# Create a list of independent variables\n",
    "independent_variables = diabetes.columns.tolist()"
   ]
  },
  {
   "cell_type": "code",
   "execution_count": 7,
   "id": "942feb2c",
   "metadata": {},
   "outputs": [],
   "source": [
    "independent_variables.remove(dependent_variable)"
   ]
  },
  {
   "cell_type": "code",
   "execution_count": 8,
   "id": "1ed640d0",
   "metadata": {},
   "outputs": [
    {
     "data": {
      "text/plain": [
       "['# age', 'sex', 'bmi', 'bp', 's1', 's2', 's3', 's4', 's5', 's6']"
      ]
     },
     "execution_count": 8,
     "metadata": {},
     "output_type": "execute_result"
    }
   ],
   "source": [
    "independent_variables"
   ]
  },
  {
   "cell_type": "code",
   "execution_count": 9,
   "id": "2b22b206",
   "metadata": {},
   "outputs": [],
   "source": [
    "# Create the data of independent variables\n",
    "x = np.array(diabetes[independent_variables].values)\n",
    "\n",
    "# Create the data of dependent variable\n",
    "y = np.array(diabetes[dependent_variable].values)"
   ]
  },
  {
   "cell_type": "code",
   "execution_count": 10,
   "id": "31e5ac79",
   "metadata": {},
   "outputs": [
    {
     "data": {
      "text/plain": [
       "(331, 10)"
      ]
     },
     "execution_count": 10,
     "metadata": {},
     "output_type": "execute_result"
    }
   ],
   "source": [
    "x.shape"
   ]
  },
  {
   "cell_type": "code",
   "execution_count": 14,
   "id": "6e77e7f5",
   "metadata": {},
   "outputs": [],
   "source": [
    "# splitting the dataset into training and test set\n",
    "x_train, x_test, y_train, y_test = train_test_split(x, y, test_size = 0.3, random_state = 0)"
   ]
  },
  {
   "cell_type": "code",
   "execution_count": 15,
   "id": "4cfa0eeb",
   "metadata": {},
   "outputs": [
    {
     "data": {
      "text/plain": [
       "LinearRegression()"
      ]
     },
     "execution_count": 15,
     "metadata": {},
     "output_type": "execute_result"
    }
   ],
   "source": [
    "# fitting multiple linear regressio to the training set\n",
    "regressor = LinearRegression()\n",
    "regressor.fit(x_train, y_train)"
   ]
  },
  {
   "cell_type": "code",
   "execution_count": 18,
   "id": "a9bfb69b",
   "metadata": {},
   "outputs": [],
   "source": [
    "# predicting the test and train set results\n",
    "test_pred = regressor.predict(x_test)\n",
    "train_pred = regressor.predict(x_train)"
   ]
  },
  {
   "cell_type": "code",
   "execution_count": 20,
   "id": "f3de5644",
   "metadata": {
    "scrolled": true
   },
   "outputs": [
    {
     "name": "stdout",
     "output_type": "stream",
     "text": [
      "Coefficients: \n",
      " [   7.15794499 -299.16119742  581.00268661  275.41804717 -870.88085731\n",
      "  536.05778243  166.17455524   67.99801034  870.68467898   64.55769713]\n",
      "Variance score: 0.3485613222345747\n"
     ]
    },
    {
     "data": {
      "text/plain": [
       "Text(0.5, 1.0, 'Residual errors')"
      ]
     },
     "execution_count": 20,
     "metadata": {},
     "output_type": "execute_result"
    },
    {
     "data": {
      "image/png": "[encoded data removed]",
      "text/plain": [
       "<Figure size 432x288 with 1 Axes>"
      ]
     },
     "metadata": {},
     "output_type": "display_data"
    }
   ],
   "source": [
    "print('Coefficients: \\n', regressor.coef_) \n",
    "print('Variance score: {}'.format(regressor.score(x_test, y_test))) \n",
    "\n",
    "plt.style.use('fivethirtyeight') \n",
    "\n",
    "plt.scatter(train_pred, train_pred - y_train, \n",
    "            color = \"red\", s = 10, label = 'Train data') \n",
    "\n",
    "plt.scatter(test_pred, test_pred - y_test,\n",
    "            color = \"blue\", s = 10, label = 'Test data') \n",
    "\n",
    "plt.hlines(y = 0, xmin = 0, xmax = 300, linewidth = 2) \n",
    "plt.legend(loc = 'upper right') \n",
    "plt.title(\"Residual errors\") "
   ]
  },
  {
   "cell_type": "code",
   "execution_count": 23,
   "id": "2fc67b2b",
   "metadata": {},
   "outputs": [
    {
     "data": {
      "text/plain": [
       "'Mean squared error: 3661.26'"
      ]
     },
     "execution_count": 23,
     "metadata": {},
     "output_type": "execute_result"
    }
   ],
   "source": [
    "# the mean square error\n",
    "\"Mean squared error: %.2f\" % mean_squared_error(y_test, y_pred)\n"
   ]
  },
  {
   "cell_type": "code",
   "execution_count": 24,
   "id": "d4580d2a",
   "metadata": {},
   "outputs": [
    {
     "data": {
      "text/plain": [
       "0.3485613222345747"
      ]
     },
     "execution_count": 24,
     "metadata": {},
     "output_type": "execute_result"
    }
   ],
   "source": [
    "r2_score(y_test, y_pred)"
   ]
  },
  {
   "cell_type": "code",
   "execution_count": null,
   "id": "53fb3e11",
   "metadata": {},
   "outputs": [],
   "source": []
  }
 ],
 "metadata": {
  "kernelspec": {
   "display_name": "Python 3",
   "language": "python",
   "name": "python3"
  },
  "language_info": {
   "codemirror_mode": {
    "name": "ipython",
    "version": 3
   },
   "file_extension": ".py",
   "mimetype": "text/x-python",
   "name": "python",
   "nbconvert_exporter": "python",
   "pygments_lexer": "ipython3",
   "version": "3.8.8"
  }
 },
 "nbformat": 4,
 "nbformat_minor": 5
}
